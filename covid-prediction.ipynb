{
 "cells": [
  {
   "cell_type": "code",
   "execution_count": 18,
   "id": "e432b9e6",
   "metadata": {},
   "outputs": [],
   "source": [
    "import pandas as pd\n",
    "import numpy as np\n",
    "from sklearn.tree import DecisionTreeClassifier \n",
    "from sklearn import tree\n",
    "from sklearn.model_selection import train_test_split\n",
    "from sklearn.metrics import accuracy_score\n",
    "import gradio as gr\n",
    "\n",
    "import joblib"
   ]
  },
  {
   "cell_type": "code",
   "execution_count": 19,
   "id": "748fec7e",
   "metadata": {},
   "outputs": [
    {
     "name": "stdout",
     "output_type": "stream",
     "text": [
      "<class 'pandas.core.frame.DataFrame'>\n",
      "RangeIndex: 278848 entries, 0 to 278847\n",
      "Data columns (total 10 columns):\n",
      " #   Column               Non-Null Count   Dtype         \n",
      "---  ------               --------------   -----         \n",
      " 0   test_date            278848 non-null  datetime64[ns]\n",
      " 1   cough                278596 non-null  float64       \n",
      " 2   fever                278596 non-null  float64       \n",
      " 3   sore_throat          278847 non-null  float64       \n",
      " 4   shortness_of_breath  278847 non-null  float64       \n",
      " 5   head_ache            278847 non-null  float64       \n",
      " 6   corona_result        274956 non-null  float64       \n",
      " 7   age_60_and_above     151528 non-null  float64       \n",
      " 8   gender               259285 non-null  float64       \n",
      " 9   test_indication      278848 non-null  int32         \n",
      "dtypes: datetime64[ns](1), float64(8), int32(1)\n",
      "memory usage: 20.2 MB\n",
      "None\n"
     ]
    }
   ],
   "source": [
    "\n",
    "def cough_converter(x):\n",
    "    try:\n",
    "        return Int32(x)\n",
    "    except:\n",
    "        return None\n",
    "\n",
    "def convertor(x):\n",
    "    try:\n",
    "       retval = np.int32(x)\n",
    "    except :\n",
    "       retval = None\n",
    "    return retval\n",
    "\n",
    "def genderconvertor(g):\n",
    "    if g == 'female':\n",
    "        return np.int32(0)\n",
    "    elif g == 'male':\n",
    "        return np.int32(1)\n",
    "    else:\n",
    "        return None\n",
    "   \n",
    "\n",
    "def corona_result_convertor(r):\n",
    "    if r == 'negative':\n",
    "        return np.int32(0)\n",
    "    elif r == 'positive':\n",
    "        return np.int32(1)\n",
    "    else:\n",
    "        return None \n",
    "\n",
    "\n",
    "def age_convertor(c):\n",
    "    if c == 'Yes':\n",
    "        return np.int32(1)\n",
    "    elif c == 'No':\n",
    "        return np.int32(0)\n",
    "    else:\n",
    "        return None\n",
    "\n",
    "def contact_convertor(c):\n",
    "    if c == 'Other':\n",
    "        return np.int32(0)\n",
    "    elif c == 'Abroad':\n",
    "        return np.int32(1)\n",
    "    elif c == 'Contact with confirmed':\n",
    "        return np.int32(2)\n",
    "\n",
    "parse_dates = ['test_date']\n",
    "converters = {'cough': convertor,   \n",
    "              'fever': convertor, 'sore_throat': convertor,\n",
    "              'shortness_of_breath': convertor, 'head_ache': convertor,'age_60_and_above': age_convertor, \n",
    "              'gender': genderconvertor,\n",
    "              'corona_result' : corona_result_convertor,  \n",
    "              'test_indication' : contact_convertor}\n",
    "\n",
    "orig_df = pd.read_csv(\"corona_tested_individuals_ver_006.english.csv\", \n",
    "                 parse_dates=parse_dates, converters=converters, low_memory=False)\n",
    "\n",
    "\n",
    "print(orig_df.info())\n"
   ]
  },
  {
   "cell_type": "code",
   "execution_count": 20,
   "id": "5afd73da",
   "metadata": {},
   "outputs": [],
   "source": [
    "# Cleanup the data \n",
    "\n",
    "df = orig_df.copy()\n",
    "df.dropna(inplace=True)\n"
   ]
  },
  {
   "cell_type": "code",
   "execution_count": 21,
   "id": "175c3e00",
   "metadata": {},
   "outputs": [
    {
     "data": {
      "text/plain": [
       "DecisionTreeClassifier()"
      ]
     },
     "execution_count": 21,
     "metadata": {},
     "output_type": "execute_result"
    }
   ],
   "source": [
    "Input = df.drop(['test_date', 'corona_result'], axis=1)\n",
    "output = df['corona_result']\n",
    "\n",
    "X_train, X_test, y_train, y_test = train_test_split(Input, output, test_size=0.2)\n",
    "\n",
    "\n",
    "model = DecisionTreeClassifier()\n",
    "model.fit(X_train.values, y_train)\n",
    "\n",
    "\n",
    "\n"
   ]
  },
  {
   "cell_type": "code",
   "execution_count": 22,
   "id": "487ff4a9",
   "metadata": {
    "scrolled": true
   },
   "outputs": [
    {
     "name": "stdout",
     "output_type": "stream",
     "text": [
      "score = 0.956748\n"
     ]
    },
    {
     "name": "stderr",
     "output_type": "stream",
     "text": [
      "C:\\ProgramData\\Anaconda3\\lib\\site-packages\\sklearn\\base.py:443: UserWarning: X has feature names, but DecisionTreeClassifier was fitted without feature names\n",
      "  warnings.warn(\n"
     ]
    },
    {
     "data": {
      "text/plain": [
       "['saved-model.joblib']"
      ]
     },
     "execution_count": 22,
     "metadata": {},
     "output_type": "execute_result"
    }
   ],
   "source": [
    "predictions = model.predict(X_test)\n",
    "\n",
    "score = accuracy_score(y_test, predictions) \n",
    "print(\"score = %f\" % score) \n",
    "joblib.dump(model, \"saved-model.joblib\") \n"
   ]
  },
  {
   "cell_type": "code",
   "execution_count": 23,
   "id": "1212eba2",
   "metadata": {},
   "outputs": [
    {
     "data": {
      "text/plain": [
       "array([1.])"
      ]
     },
     "execution_count": 23,
     "metadata": {},
     "output_type": "execute_result"
    }
   ],
   "source": [
    "model.predict([[1.,1.,1.,1.,0.,1.,1.,0]])"
   ]
  },
  {
   "cell_type": "code",
   "execution_count": 24,
   "id": "0f42d560",
   "metadata": {},
   "outputs": [
    {
     "name": "stdout",
     "output_type": "stream",
     "text": [
      "cough [1. 0.]\n",
      "fever [0. 1.]\n",
      "sore_throat [0. 1.]\n",
      "shortness_of_breath [0. 1.]\n",
      "head_ache [0. 1.]\n",
      "corona_result [0. 1.]\n",
      "age_60_and_above [1. 0.]\n",
      "gender [1. 0.]\n",
      "test_indication [0 1 2]\n"
     ]
    }
   ],
   "source": [
    "for col in ['cough', 'fever', 'sore_throat', 'shortness_of_breath',\n",
    "       'head_ache', 'corona_result', 'age_60_and_above', 'gender',\n",
    "       'test_indication']:\n",
    "    print(col, df[col].unique())"
   ]
  },
  {
   "cell_type": "code",
   "execution_count": 25,
   "id": "c58118c0",
   "metadata": {},
   "outputs": [],
   "source": [
    "test_input = {'cough' : 1, 'fever' :0, 'sore_throat' :1, 'shortness_of_breath':1,\n",
    "       'head_ache' :0,  'age_60_and_above' :1, 'gender' :1,\n",
    "       'test_indication':1}\n"
   ]
  },
  {
   "cell_type": "code",
   "execution_count": 26,
   "id": "e3e1a2f3",
   "metadata": {},
   "outputs": [],
   "source": [
    "t = tree.export_graphviz(model, out_file='covid.dot',\n",
    "                          feature_names=['cough', 'fever', 'sore_throat', 'shortness_of_breath', 'head_ache', \n",
    "                                         'age_60_and_above', 'gender', 'test_indication'], \n",
    "                          class_names=[str(x) for x in list(sorted(y_train.unique()))], label='all', rounded=True, filled=True)\n"
   ]
  },
  {
   "cell_type": "code",
   "execution_count": 27,
   "id": "6eac1e4e",
   "metadata": {},
   "outputs": [],
   "source": [
    "reloaded = joblib.load('saved-model.joblib')"
   ]
  },
  {
   "cell_type": "code",
   "execution_count": 28,
   "id": "1d1560c8",
   "metadata": {},
   "outputs": [
    {
     "data": {
      "text/plain": [
       "array([1.])"
      ]
     },
     "execution_count": 28,
     "metadata": {},
     "output_type": "execute_result"
    }
   ],
   "source": [
    "reloaded.predict([[1.,1.,1.,1.,0.,1.,1.,0]])"
   ]
  },
  {
   "cell_type": "code",
   "execution_count": 29,
   "id": "3a750eba",
   "metadata": {},
   "outputs": [
    {
     "name": "stdout",
     "output_type": "stream",
     "text": [
      "cough [1. 0.]\n",
      "fever [0. 1.]\n",
      "sore_throat [0. 1.]\n",
      "shortness_of_breath [0. 1.]\n",
      "head_ache [0. 1.]\n",
      "age_60_and_above [1. 0.]\n",
      "gender [1. 0.]\n",
      "test_indication [0 1 2]\n"
     ]
    }
   ],
   "source": [
    "for col in Input.columns:\n",
    "    print(col, Input[col].unique())"
   ]
  },
  {
   "cell_type": "code",
   "execution_count": 30,
   "id": "9f4e1f87",
   "metadata": {},
   "outputs": [
    {
     "data": {
      "text/plain": [
       "(136294, 8)"
      ]
     },
     "execution_count": 30,
     "metadata": {},
     "output_type": "execute_result"
    }
   ],
   "source": [
    "Input.shape"
   ]
  },
  {
   "cell_type": "code",
   "execution_count": 31,
   "id": "0048ccbd",
   "metadata": {},
   "outputs": [
    {
     "data": {
      "text/plain": [
       "'Negative'"
      ]
     },
     "execution_count": 31,
     "metadata": {},
     "output_type": "execute_result"
    }
   ],
   "source": [
    "yesno_dict = {'Yes': 1.0, 'No':0.0}\n",
    "gender_dict = {'Male':1.0, 'Female':0.0}\n",
    "contact_dict = {'Abroad': np.int32(2), 'Contact with confirmed':np.int32(1),'Other':np.int32(0)}\n",
    "def covid_predicter(cough, fever, sore_throat, shortness_of_breath, head_ache,\n",
    "       age_60_and_above, gender, test_indication):\n",
    "    n_cough = yesno_dict[cough]\n",
    "    n_fever = yesno_dict[fever]\n",
    "    n_sore_throat = yesno_dict[sore_throat]\n",
    "    n_shortness_of_breath = yesno_dict[shortness_of_breath]\n",
    "    n_headache = yesno_dict[head_ache]\n",
    "    n_age_60_and_above = yesno_dict[age_60_and_above]\n",
    "    n_gender = gender_dict[gender]\n",
    "    n_contact = contact_dict[test_indication]\n",
    "    prediction = model.predict([[n_cough, n_fever, n_sore_throat, n_shortness_of_breath,\n",
    "                                 n_headache,n_age_60_and_above, n_gender, n_contact]])\n",
    "    if prediction == 1.0:\n",
    "        return 'Positive'\n",
    "    else:\n",
    "        return 'Negative'\n",
    "covid_predicter('Yes', 'No', 'No', 'No', 'No', 'No', 'Female', 'Abroad')"
   ]
  },
  {
   "cell_type": "code",
   "execution_count": 32,
   "id": "8a833b07",
   "metadata": {},
   "outputs": [
    {
     "name": "stdout",
     "output_type": "stream",
     "text": [
      "Running on local URL:  http://127.0.0.1:7868/\n",
      "\n",
      "To create a public link, set `share=True` in `launch()`.\n"
     ]
    },
    {
     "data": {
      "text/html": [
       "<div><iframe src=\"http://127.0.0.1:7868/\" width=\"900\" height=\"500\" allow=\"autoplay; camera; microphone;\" frameborder=\"0\" allowfullscreen></iframe></div>"
      ],
      "text/plain": [
       "<IPython.core.display.HTML object>"
      ]
     },
     "metadata": {},
     "output_type": "display_data"
    },
    {
     "data": {
      "text/plain": [
       "(<gradio.routes.App at 0x1b59b8f4700>, 'http://127.0.0.1:7868/', None)"
      ]
     },
     "execution_count": 32,
     "metadata": {},
     "output_type": "execute_result"
    },
    {
     "name": "stderr",
     "output_type": "stream",
     "text": [
      "Traceback (most recent call last):\n",
      "  File \"C:\\Users\\Chetna\\AppData\\Roaming\\Python\\Python39\\site-packages\\gradio\\routes.py\", line 259, in run_predict\n",
      "    output = await app.blocks.process_api(\n",
      "  File \"C:\\Users\\Chetna\\AppData\\Roaming\\Python\\Python39\\site-packages\\gradio\\blocks.py\", line 687, in process_api\n",
      "    predictions, duration = await self.call_function(fn_index, inputs)\n",
      "  File \"C:\\Users\\Chetna\\AppData\\Roaming\\Python\\Python39\\site-packages\\gradio\\blocks.py\", line 604, in call_function\n",
      "    prediction = await anyio.to_thread.run_sync(\n",
      "  File \"C:\\ProgramData\\Anaconda3\\lib\\site-packages\\anyio\\to_thread.py\", line 28, in run_sync\n",
      "    return await get_asynclib().run_sync_in_worker_thread(func, *args, cancellable=cancellable,\n",
      "  File \"C:\\ProgramData\\Anaconda3\\lib\\site-packages\\anyio\\_backends\\_asyncio.py\", line 818, in run_sync_in_worker_thread\n",
      "    return await future\n",
      "  File \"C:\\ProgramData\\Anaconda3\\lib\\site-packages\\anyio\\_backends\\_asyncio.py\", line 754, in run\n",
      "    result = context.run(func, *args)\n",
      "  File \"C:\\Users\\Chetna\\AppData\\Local\\Temp\\ipykernel_15320\\749328803.py\", line 7, in covid_predicter\n",
      "    n_fever = yesno_dict[fever]\n",
      "KeyError: None\n"
     ]
    }
   ],
   "source": [
    "demo = gr.Interface(fn=covid_predicter, inputs=[gr.Dropdown(choices=[\"Yes\", \"No\"], label=\"Cough\"),\n",
    "                                                gr.Dropdown(choices=[\"Yes\", \"No\"], label=\"Fever\"),\n",
    "                                                gr.Dropdown(choices=[\"Yes\", \"No\"], label=\"Sore Throat\"),\n",
    "                                                gr.Dropdown(choices=[\"Yes\", \"No\"], label=\"Shortness of Breath\"),\n",
    "                                                gr.Dropdown(choices=[\"Yes\", \"No\"], label=\"Headache\"),\n",
    "                                                gr.Dropdown(choices=[\"Yes\", \"No\"], label=\"Age 60 and Above\"),\n",
    "                                                gr.Dropdown(choices=[\"Female\", \"Male\"], label=\"Gender\"),\n",
    "                                                gr.Dropdown(choices=[\"Abroad\",\n",
    "                                                                     \"Contact with confirmed\",\n",
    "                                                                     \"Other\"],  label=\"Contact\")],\n",
    "                                                outputs = \"text\", title=\"Covid-19 Prediction\")\n",
    "demo.launch()"
   ]
  }
 ],
 "metadata": {
  "kernelspec": {
   "display_name": "Python 3 (ipykernel)",
   "language": "python",
   "name": "python3"
  },
  "language_info": {
   "codemirror_mode": {
    "name": "ipython",
    "version": 3
   },
   "file_extension": ".py",
   "mimetype": "text/x-python",
   "name": "python",
   "nbconvert_exporter": "python",
   "pygments_lexer": "ipython3",
   "version": "3.9.12"
  }
 },
 "nbformat": 4,
 "nbformat_minor": 5
}
